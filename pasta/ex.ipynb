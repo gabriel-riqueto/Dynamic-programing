{
 "cells": [
  {
   "cell_type": "code",
   "execution_count": null,
   "metadata": {},
   "outputs": [],
   "source": [
    "lista = [1,2,3,4,5]\n",
    "\n",
    "def media(lista):\n",
    "    media = sum(lista) / len(lista)\n",
    "    return media\n",
    "\n",
    "resultado = media(lista)\n",
    "\n",
    "print(resultado)"
   ]
  },
  {
   "cell_type": "code",
   "execution_count": 2,
   "metadata": {},
   "outputs": [
    {
     "name": "stdout",
     "output_type": "stream",
     "text": [
      "Positivos: [10, 30, 40, 50, 8]\n",
      "Negativos: [-20, -3]\n"
     ]
    }
   ],
   "source": [
    "# reorne os nums neaivos e positivos da lista.\n",
    "\n",
    "\n",
    "def positivos_negativos(lista):\n",
    "    negaitvos =[num for num in lista if num < 0]\n",
    "    posi = [num for num in lista if num > 0]\n",
    "    return posi, negaitvos\n",
    "\n",
    "numeros = [10,-20,30,40,50,-3,8]    \n",
    "positivos, negativos = positivos_negativos(numeros)\n",
    "\n",
    "print(f\"Positivos: {positivos}\")\n",
    "print(f\"Negativos: {negativos}\")\n",
    "    \n"
   ]
  },
  {
   "cell_type": "code",
   "execution_count": 12,
   "metadata": {},
   "outputs": [
    {
     "name": "stdout",
     "output_type": "stream",
     "text": [
      "5149\n"
     ]
    }
   ],
   "source": [
    "# calcule a soma dos quadrados de uma lista de numeros\n",
    "lista = [30, 40, 50, 6, 8, 7]\n",
    "quadrados = []\n",
    "for i in lista: \n",
    "    quadrados.append(i**2)\n",
    "\n",
    "soma = sum(quadrados)\n",
    "print(soma)"
   ]
  },
  {
   "cell_type": "code",
   "execution_count": 22,
   "metadata": {},
   "outputs": [
    {
     "name": "stdout",
     "output_type": "stream",
     "text": [
      "Collecting pandas\n",
      "  Using cached pandas-2.2.1-cp311-cp311-win_amd64.whl (11.6 MB)\n",
      "Requirement already satisfied: numpy<2,>=1.23.2 in c:\\python311\\lib\\site-packages (from pandas) (1.26.4)\n",
      "Requirement already satisfied: python-dateutil>=2.8.2 in c:\\python311\\lib\\site-packages (from pandas) (2.8.2)\n",
      "Requirement already satisfied: pytz>=2020.1 in c:\\python311\\lib\\site-packages (from pandas) (2024.1)\n",
      "Requirement already satisfied: tzdata>=2022.7 in c:\\python311\\lib\\site-packages (from pandas) (2024.1)\n",
      "Requirement already satisfied: six>=1.5 in c:\\python311\\lib\\site-packages (from python-dateutil>=2.8.2->pandas) (1.16.0)\n",
      "Installing collected packages: pandas\n",
      "Successfully installed pandas-2.2.1\n",
      "Note: you may need to restart the kernel to use updated packages.\n"
     ]
    },
    {
     "name": "stderr",
     "output_type": "stream",
     "text": [
      "\n",
      "[notice] A new release of pip is available: 23.1.2 -> 24.0\n",
      "[notice] To update, run: python.exe -m pip install --upgrade pip\n"
     ]
    }
   ],
   "source": [
    "pip install pandas"
   ]
  },
  {
   "cell_type": "code",
   "execution_count": 23,
   "metadata": {},
   "outputs": [],
   "source": [
    "import pandas as pd"
   ]
  },
  {
   "cell_type": "code",
   "execution_count": 27,
   "metadata": {},
   "outputs": [
    {
     "data": {
      "text/plain": [
       "array([[ 308.6, 1551. ],\n",
       "       [ 308.7, 1408. ],\n",
       "       [ 308.5, 1498. ],\n",
       "       [ 308.6, 1433. ],\n",
       "       [ 308.7, 1408. ]])"
      ]
     },
     "execution_count": 27,
     "metadata": {},
     "output_type": "execute_result"
    }
   ],
   "source": [
    "dados = pd.read_csv('manutencao_preditiva.csv')\n",
    "dados_selec = dados[['Temperatura Processo [K]', 'Velocidade Rotacao [rpm]']]\n",
    "\n",
    "cinco_linhas = dados_selec.head(5)\n",
    "\n",
    "matriz = cinco_linhas.values\n",
    "matriz"
   ]
  },
  {
   "cell_type": "code",
   "execution_count": 24,
   "metadata": {},
   "outputs": [],
   "source": [
    "import numpy as np"
   ]
  },
  {
   "cell_type": "code",
   "execution_count": null,
   "metadata": {},
   "outputs": [],
   "source": [
    "soma_elementos = np.sum(matriz)\n",
    "\n",
    "print(soma_elementos)"
   ]
  },
  {
   "cell_type": "code",
   "execution_count": 28,
   "metadata": {},
   "outputs": [
    {
     "name": "stdout",
     "output_type": "stream",
     "text": [
      "308.5\n",
      "1551.0\n"
     ]
    }
   ],
   "source": [
    "min_elementos = np.min(matriz)\n",
    "max_elemebtos = np.max(matriz)\n",
    "\n",
    "print(min_elementos)\n",
    "print(max_elemebtos)\n"
   ]
  },
  {
   "cell_type": "code",
   "execution_count": 33,
   "metadata": {},
   "outputs": [
    {
     "name": "stdout",
     "output_type": "stream",
     "text": [
      "[ 308.62 1459.6 ]\n",
      "[929.8  858.35 903.25 870.8  858.35]\n"
     ]
    }
   ],
   "source": [
    "media1 =np.mean(matriz, axis = 0) # media pela vertical da matriz (coluna)\n",
    "media2 =np.mean(matriz, axis = 1) # media pela horizontal da matriz (linha)\n",
    "\n",
    "print(media1)\n",
    "print(media2)"
   ]
  },
  {
   "cell_type": "code",
   "execution_count": 35,
   "metadata": {},
   "outputs": [
    {
     "name": "stdout",
     "output_type": "stream",
     "text": [
      "[929.8  858.35 903.25 870.8  858.35]\n",
      "[ 308.62 1459.6 ]\n"
     ]
    }
   ],
   "source": [
    "transpor = np.transpose(matriz)\n",
    "\n",
    "media3 = np.mean(transpor, axis = 0)\n",
    "media4 = np.mean(transpor, axis = 1)\n",
    "\n",
    "print(media3)\n",
    "print(media4)"
   ]
  },
  {
   "cell_type": "code",
   "execution_count": 42,
   "metadata": {},
   "outputs": [
    {
     "name": "stdout",
     "output_type": "stream",
     "text": [
      "[[298.1  42.8]\n",
      " [298.2  46.3]\n",
      " [298.1  49.4]\n",
      " [298.2  39.5]\n",
      " [298.2  40. ]\n",
      " [298.1  41.9]\n",
      " [298.1  42.4]\n",
      " [298.1  40.2]\n",
      " [298.3  28.6]\n",
      " [298.5  28. ]]\n",
      "[[1542.    48.4]\n",
      " [1311.    46.6]\n",
      " [1410.    45.6]\n",
      " [1306.    54.5]\n",
      " [1632.    32.5]\n",
      " [1375.    42.7]\n",
      " [1450.    44.8]\n",
      " [1581.    30.7]\n",
      " [1758.    25.7]\n",
      " [1561.    37.3]]\n"
     ]
    }
   ],
   "source": [
    "dados_novos = dados[['Velocidade Rotacao [rpm]', 'Torque [Nm]']]\n",
    "dados_outros = dados[['Temperatura Ar [K]', 'Torque [Nm]']]\n",
    "intervalo = dados_novos.iloc[15:25]\n",
    "dez_linhas  = dados_outros.head(10)\n",
    "\n",
    "matriz1 = dez_linhas.values\n",
    "matriz2 = intervalo.values\n",
    "\n",
    "print(matriz1)\n",
    "print(matriz2)"
   ]
  },
  {
   "cell_type": "code",
   "execution_count": 43,
   "metadata": {},
   "outputs": [
    {
     "name": "stdout",
     "output_type": "stream",
     "text": [
      "[17907.9   807.9]\n"
     ]
    }
   ],
   "source": [
    "soma = sum(matriz1) + sum(matriz2)\n",
    "print(soma)"
   ]
  },
  {
   "cell_type": "code",
   "execution_count": 40,
   "metadata": {},
   "outputs": [
    {
     "name": "stdout",
     "output_type": "stream",
     "text": [
      "[929.8  858.35 903.25 870.8  858.35]\n",
      "[ 308.62 1459.6 ]\n"
     ]
    }
   ],
   "source": []
  }
 ],
 "metadata": {
  "kernelspec": {
   "display_name": "Python 3",
   "language": "python",
   "name": "python3"
  },
  "language_info": {
   "codemirror_mode": {
    "name": "ipython",
    "version": 3
   },
   "file_extension": ".py",
   "mimetype": "text/x-python",
   "name": "python",
   "nbconvert_exporter": "python",
   "pygments_lexer": "ipython3",
   "version": "3.11.4"
  },
  "orig_nbformat": 4
 },
 "nbformat": 4,
 "nbformat_minor": 2
}
