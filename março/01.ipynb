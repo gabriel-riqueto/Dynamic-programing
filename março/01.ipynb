{
 "cells": [
  {
   "cell_type": "code",
   "execution_count": 30,
   "metadata": {},
   "outputs": [
    {
     "name": "stdout",
     "output_type": "stream",
     "text": [
      "Elemento presente no index: 1\n"
     ]
    }
   ],
   "source": [
    "# busca binaria dividir e conquistar\n",
    "\n",
    "def busca_binaria(array, x, low, high):\n",
    "    while low <= high:\n",
    "        mid = (low + high) // 2\n",
    "        if array[mid] == x:\n",
    "            return mid\n",
    "        elif array[mid] < x:\n",
    "            low = mid + 1\n",
    "        else:\n",
    "            high = mid -1\n",
    "    return -1\n",
    "    \n",
    "array = [3, 4, 5, 6, 7, 8, 9]\n",
    "x = 4\n",
    "resultado = busca_binaria(array,x,0,len(array)-1)\n",
    "\n",
    "if resultado != -1:\n",
    "    print(f\"Elemento presente no index: {resultado}\")\n",
    "else:\n",
    "    print(\"Elemento nâo encontrado\")\n",
    "\n",
    "\n",
    "\n"
   ]
  }
 ],
 "metadata": {
  "kernelspec": {
   "display_name": "Python 3",
   "language": "python",
   "name": "python3"
  },
  "language_info": {
   "codemirror_mode": {
    "name": "ipython",
    "version": 3
   },
   "file_extension": ".py",
   "mimetype": "text/x-python",
   "name": "python",
   "nbconvert_exporter": "python",
   "pygments_lexer": "ipython3",
   "version": "3.11.4"
  },
  "orig_nbformat": 4
 },
 "nbformat": 4,
 "nbformat_minor": 2
}
