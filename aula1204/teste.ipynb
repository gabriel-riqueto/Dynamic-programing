{
 "cells": [
  {
   "cell_type": "code",
   "execution_count": null,
   "metadata": {},
   "outputs": [],
   "source": [
    "tripo = lambda x: x*3\n",
    "print(tripo(9))"
   ]
  },
  {
   "cell_type": "code",
   "execution_count": null,
   "metadata": {},
   "outputs": [],
   "source": [
    "nome_completo = lambda nome, sobrenome: f'Nome: {nome}\\nSobrenome: {sobrenome}'\n",
    "print(nome_completo('Gabriel', 'reis'))"
   ]
  },
  {
   "cell_type": "code",
   "execution_count": 6,
   "metadata": {},
   "outputs": [
    {
     "name": "stdout",
     "output_type": "stream",
     "text": [
      "False\n"
     ]
    }
   ],
   "source": [
    "comeca_com_g = lambda x: True if x.startswith('G') else False\n",
    "print(comeca_com_g('Batata'))"
   ]
  },
  {
   "cell_type": "code",
   "execution_count": 8,
   "metadata": {},
   "outputs": [
    {
     "name": "stdout",
     "output_type": "stream",
     "text": [
      "adolescente\n"
     ]
    }
   ],
   "source": [
    "idade = int(input())\n",
    "classificar_idade = lambda idade: 'criança' if idade < 13 else ('adolescente' if idade < 18 else 'adulto')\n",
    "print(classificar_idade(idade))"
   ]
  },
  {
   "cell_type": "code",
   "execution_count": 21,
   "metadata": {},
   "outputs": [
    {
     "data": {
      "text/plain": [
       "'Crie uma estrutura usando o parâmetro lambda para os seguintes casos'"
      ]
     },
     "execution_count": 21,
     "metadata": {},
     "output_type": "execute_result"
    }
   ],
   "source": [
    "\"\"\"Crie uma estrutura usando o parâmetro lambda para os seguintes casos\"\"\"\n",
    "\n",
    "\n"
   ]
  },
  {
   "cell_type": "code",
   "execution_count": null,
   "metadata": {},
   "outputs": [],
   "source": [
    "'''\n",
    "1- crie um algoritimo para calcular uma equação de primeiro grau:\n",
    "10x * 5\n",
    "'''\n",
    "\n",
    "resolve_equa = lambda x: (-10*x) * 5\n",
    "print(f'O resultado é {resolve_equa(10)}') "
   ]
  },
  {
   "cell_type": "code",
   "execution_count": null,
   "metadata": {},
   "outputs": [],
   "source": [
    "\n",
    "\"\"\"\n",
    "2- crie um algoritimo para calcular a força em newtons usandp as duas variáveis massa e aceleração:\n",
    "(F = m x a)\n",
    "\"\"\"\n",
    "\n",
    "\n",
    "calc_for = lambda m, a: m * a\n",
    "print(f'A força é de {calc_for(20, 2)} N')\n"
   ]
  },
  {
   "cell_type": "code",
   "execution_count": null,
   "metadata": {},
   "outputs": [],
   "source": [
    "\"\"\"\n",
    "3- crie um algoritimo para calcular a temperatura em graus (ºC) e Fahenreit (ºF) usando as vars temp, escala\n",
    "ºC -> ºF = (temp - 32) * (9/5)\n",
    "ºF -> ºC = (temp * 9/5) + 32\n",
    "\"\"\"\n",
    "\n",
    "\n",
    "calc_temp = lambda temp, escala: (temp * 9/5) + 32 if escala == 'C' else  (temp - 32) * (9/5) if escala == 'F' else 'escala invalida'\n",
    "print(calc_temp(0,'C'))\n",
    "print(calc_temp(30,'F'))\n"
   ]
  },
  {
   "cell_type": "code",
   "execution_count": 20,
   "metadata": {},
   "outputs": [
    {
     "name": "stdout",
     "output_type": "stream",
     "text": [
      "9\n"
     ]
    }
   ],
   "source": [
    "\"\"\"\n",
    "4- Função que cria função\n",
    "    - utilizar função def chamando parametros a, b, c\n",
    "    - retornar a função lambda com o parametro x, a, b, c\n",
    "    - testar a função\n",
    "\"\"\"\n",
    "\n",
    "def contrucao_quadratica(a, b, c):\n",
    "    '''Retorna função 2º grau'''\n",
    "    return lambda x: (a*x**2) + (x*b) + c\n",
    "\n",
    "f = contrucao_quadratica(2, 3, -5)\n",
    "\n",
    "print(f(2))"
   ]
  },
  {
   "cell_type": "code",
   "execution_count": null,
   "metadata": {},
   "outputs": [],
   "source": [
    "'''\n",
    "Crie uma função de uma função para calcular o resultado final de uma equaçao do primeiro grau, de tal forma que a função def tenha dois parametros e a funcao lambda um parametro\n",
    "'''\n",
    "\n",
    "def func_primeiro(a,b):\n",
    "    return lambda x: (a*x) + b\n",
    "\n",
    "f = func_primeiro(2, 4)\n",
    "\n",
    "print(f(2))"
   ]
  },
  {
   "cell_type": "code",
   "execution_count": 25,
   "metadata": {},
   "outputs": [
    {
     "name": "stdout",
     "output_type": "stream",
     "text": [
      "7.0\n"
     ]
    }
   ],
   "source": [
    "\"\"\"\n",
    "Crie um programa para retornar uma função para calcular a media ponderada\n",
    "\"\"\"\n",
    "\n",
    "def media_pon(peso1, peso2):\n",
    "    return lambda a, b: ((a * peso1) + (b * peso2)) / (peso1 + peso2)\n",
    "\n",
    "m = media_pon(2, 1)\n",
    "\n",
    "print(m(8, 5))"
   ]
  },
  {
   "cell_type": "code",
   "execution_count": null,
   "metadata": {},
   "outputs": [],
   "source": []
  }
 ],
 "metadata": {
  "kernelspec": {
   "display_name": "Python 3",
   "language": "python",
   "name": "python3"
  },
  "language_info": {
   "codemirror_mode": {
    "name": "ipython",
    "version": 3
   },
   "file_extension": ".py",
   "mimetype": "text/x-python",
   "name": "python",
   "nbconvert_exporter": "python",
   "pygments_lexer": "ipython3",
   "version": "3.11.4"
  },
  "orig_nbformat": 4
 },
 "nbformat": 4,
 "nbformat_minor": 2
}
